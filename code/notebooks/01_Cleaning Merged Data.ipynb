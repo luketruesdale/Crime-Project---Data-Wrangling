{
 "cells": [
  {
   "cell_type": "markdown",
   "id": "443e92e2-1a31-4471-bbc8-c2658cb15fbf",
   "metadata": {},
   "source": [
    "## Drop unneccessary rows for analysis "
   ]
  },
  {
   "cell_type": "code",
   "execution_count": 8,
   "id": "06981733-e4e4-46d5-a497-e96f4e98a2bd",
   "metadata": {},
   "outputs": [
    {
     "name": "stdout",
     "output_type": "stream",
     "text": [
      "Dataset cleaned and saved as 'Cleaned_Final_Data.csv'.\n"
     ]
    }
   ],
   "source": [
    "import pandas as pd\n",
    "\n",
    "# Load the dataset\n",
    "file_path = \"Final Cleaned and Merged Data.csv\"\n",
    "data = pd.read_csv(file_path)\n",
    "\n",
    "# Columns to drop\n",
    "columns_to_drop = [\n",
    "    'countycode', 'communitycode', 'agepct12t21', 'agepct12t29', 'agepct16t24', 'agepct65up',\n",
    "    'pctwfarmself', 'pctwinvinc', 'pctwsocsec', 'pctteen2par', 'pctworkmomyoungkids', 'pctworkmom',\n",
    "    'numkidsbornnevermar', 'pctkidsbornnevermar', 'numimmig', 'pctimmigrec5', 'pctimmigrec8',\n",
    "    'pctimmigrec10', 'pctrecentimmig', 'pctrecimmig5', 'pctrecimmig8', 'pctrecimmig10',\n",
    "    'persperoccuphous', 'persperownocchous', 'persperrentocchous', 'lemasswornft', 'lemasswftperpop',\n",
    "    'lemasswftfieldops', 'lemasswftfieldperpop', 'lemastotalreq', 'lemastotreqperpop', 'policreqperoffic'\n",
    "    'arsons', 'arsonsperpop', 'violentcrimesperpop', 'nonviolperpop', \n",
    "    'policcars', 'policoperbudg', 'lemaspctpoliconpatr', 'lemasgangunitdeploy', \n",
    "    'policbudgperpop', 'policperpop', 'racialmatchcommpol', 'pctpolicwhite', \n",
    "    'pctpolicblack', 'pctpolichisp', 'pctpolicasian', 'pctpolicminor', \n",
    "    'officassgndrugunits', 'numkindsdrugsseiz', 'policaveotworked'\n",
    "]\n",
    "\n",
    "# Drop the specified columns\n",
    "data_cleaned = data.drop(columns=columns_to_drop, errors='ignore')\n",
    "\n",
    "# Save the cleaned dataset\n",
    "output_path = \"Cleaned_Final_Data.csv\"\n",
    "data_cleaned.to_csv(output_path, index=False)\n",
    "\n",
    "print(f\"Dataset cleaned and saved as '{output_path}'.\")\n"
   ]
  }
 ],
 "metadata": {
  "kernelspec": {
   "display_name": "Python 3 (ipykernel)",
   "language": "python",
   "name": "python3"
  },
  "language_info": {
   "codemirror_mode": {
    "name": "ipython",
    "version": 3
   },
   "file_extension": ".py",
   "mimetype": "text/x-python",
   "name": "python",
   "nbconvert_exporter": "python",
   "pygments_lexer": "ipython3",
   "version": "3.12.4"
  }
 },
 "nbformat": 4,
 "nbformat_minor": 5
}
